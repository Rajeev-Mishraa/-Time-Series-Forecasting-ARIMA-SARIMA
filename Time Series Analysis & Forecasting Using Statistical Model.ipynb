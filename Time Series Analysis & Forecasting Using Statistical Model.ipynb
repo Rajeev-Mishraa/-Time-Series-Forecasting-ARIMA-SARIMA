{
 "cells": [
  {
   "cell_type": "markdown",
   "id": "afe21fb6",
   "metadata": {},
   "source": [
    "# Time Series Forecasting | Predicting Airline Passengers"
   ]
  },
  {
   "cell_type": "markdown",
   "id": "e4395c74",
   "metadata": {},
   "source": [
    "<img src='https://dotdata.com/wp-content/uploads/2020/07/time-series.jpg' alt=\"Alt Text\" style=\"height: 200px; width: 1000px;\">"
   ]
  },
  {
   "cell_type": "code",
   "execution_count": 10,
   "id": "448338f4",
   "metadata": {},
   "outputs": [],
   "source": [
    "import pandas as pd\n",
    "import numpy as np\n",
    "import matplotlib.pyplot as plt\n",
    "import seaborn as sns"
   ]
  },
  {
   "cell_type": "code",
   "execution_count": 11,
   "id": "403632fd",
   "metadata": {},
   "outputs": [
    {
     "data": {
      "text/html": [
       "<div>\n",
       "<style scoped>\n",
       "    .dataframe tbody tr th:only-of-type {\n",
       "        vertical-align: middle;\n",
       "    }\n",
       "\n",
       "    .dataframe tbody tr th {\n",
       "        vertical-align: top;\n",
       "    }\n",
       "\n",
       "    .dataframe thead th {\n",
       "        text-align: right;\n",
       "    }\n",
       "</style>\n",
       "<table border=\"1\" class=\"dataframe\">\n",
       "  <thead>\n",
       "    <tr style=\"text-align: right;\">\n",
       "      <th></th>\n",
       "      <th>year</th>\n",
       "      <th>month</th>\n",
       "      <th>passengers</th>\n",
       "    </tr>\n",
       "  </thead>\n",
       "  <tbody>\n",
       "    <tr>\n",
       "      <th>0</th>\n",
       "      <td>1949</td>\n",
       "      <td>Jan</td>\n",
       "      <td>112</td>\n",
       "    </tr>\n",
       "    <tr>\n",
       "      <th>1</th>\n",
       "      <td>1949</td>\n",
       "      <td>Feb</td>\n",
       "      <td>118</td>\n",
       "    </tr>\n",
       "    <tr>\n",
       "      <th>2</th>\n",
       "      <td>1949</td>\n",
       "      <td>Mar</td>\n",
       "      <td>132</td>\n",
       "    </tr>\n",
       "    <tr>\n",
       "      <th>3</th>\n",
       "      <td>1949</td>\n",
       "      <td>Apr</td>\n",
       "      <td>129</td>\n",
       "    </tr>\n",
       "    <tr>\n",
       "      <th>4</th>\n",
       "      <td>1949</td>\n",
       "      <td>May</td>\n",
       "      <td>121</td>\n",
       "    </tr>\n",
       "  </tbody>\n",
       "</table>\n",
       "</div>"
      ],
      "text/plain": [
       "   year month  passengers\n",
       "0  1949   Jan         112\n",
       "1  1949   Feb         118\n",
       "2  1949   Mar         132\n",
       "3  1949   Apr         129\n",
       "4  1949   May         121"
      ]
     },
     "execution_count": 11,
     "metadata": {},
     "output_type": "execute_result"
    }
   ],
   "source": [
    "df = sns.load_dataset('flights')\n",
    "df.head()"
   ]
  },
  {
   "cell_type": "code",
   "execution_count": 12,
   "id": "1e37096f",
   "metadata": {},
   "outputs": [],
   "source": [
    "df['Date'] = pd.to_datetime('01-' + df['month'].astype(str) + '-' +df['year'].astype(str))"
   ]
  },
  {
   "cell_type": "code",
   "execution_count": 13,
   "id": "a50d61e7",
   "metadata": {},
   "outputs": [
    {
     "name": "stdout",
     "output_type": "stream",
     "text": [
      "<class 'pandas.core.frame.DataFrame'>\n",
      "RangeIndex: 144 entries, 0 to 143\n",
      "Data columns (total 4 columns):\n",
      " #   Column      Non-Null Count  Dtype         \n",
      "---  ------      --------------  -----         \n",
      " 0   year        144 non-null    int64         \n",
      " 1   month       144 non-null    category      \n",
      " 2   passengers  144 non-null    int64         \n",
      " 3   Date        144 non-null    datetime64[ns]\n",
      "dtypes: category(1), datetime64[ns](1), int64(2)\n",
      "memory usage: 4.0 KB\n"
     ]
    }
   ],
   "source": [
    "df.info()"
   ]
  },
  {
   "cell_type": "code",
   "execution_count": 14,
   "id": "76b1e107",
   "metadata": {},
   "outputs": [
    {
     "data": {
      "text/html": [
       "<div>\n",
       "<style scoped>\n",
       "    .dataframe tbody tr th:only-of-type {\n",
       "        vertical-align: middle;\n",
       "    }\n",
       "\n",
       "    .dataframe tbody tr th {\n",
       "        vertical-align: top;\n",
       "    }\n",
       "\n",
       "    .dataframe thead th {\n",
       "        text-align: right;\n",
       "    }\n",
       "</style>\n",
       "<table border=\"1\" class=\"dataframe\">\n",
       "  <thead>\n",
       "    <tr style=\"text-align: right;\">\n",
       "      <th></th>\n",
       "      <th>year</th>\n",
       "      <th>month</th>\n",
       "      <th>passengers</th>\n",
       "      <th>Date</th>\n",
       "    </tr>\n",
       "  </thead>\n",
       "  <tbody>\n",
       "    <tr>\n",
       "      <th>0</th>\n",
       "      <td>1949</td>\n",
       "      <td>Jan</td>\n",
       "      <td>112</td>\n",
       "      <td>1949-01-01</td>\n",
       "    </tr>\n",
       "    <tr>\n",
       "      <th>1</th>\n",
       "      <td>1949</td>\n",
       "      <td>Feb</td>\n",
       "      <td>118</td>\n",
       "      <td>1949-02-01</td>\n",
       "    </tr>\n",
       "    <tr>\n",
       "      <th>2</th>\n",
       "      <td>1949</td>\n",
       "      <td>Mar</td>\n",
       "      <td>132</td>\n",
       "      <td>1949-03-01</td>\n",
       "    </tr>\n",
       "    <tr>\n",
       "      <th>3</th>\n",
       "      <td>1949</td>\n",
       "      <td>Apr</td>\n",
       "      <td>129</td>\n",
       "      <td>1949-04-01</td>\n",
       "    </tr>\n",
       "    <tr>\n",
       "      <th>4</th>\n",
       "      <td>1949</td>\n",
       "      <td>May</td>\n",
       "      <td>121</td>\n",
       "      <td>1949-05-01</td>\n",
       "    </tr>\n",
       "  </tbody>\n",
       "</table>\n",
       "</div>"
      ],
      "text/plain": [
       "   year month  passengers       Date\n",
       "0  1949   Jan         112 1949-01-01\n",
       "1  1949   Feb         118 1949-02-01\n",
       "2  1949   Mar         132 1949-03-01\n",
       "3  1949   Apr         129 1949-04-01\n",
       "4  1949   May         121 1949-05-01"
      ]
     },
     "execution_count": 14,
     "metadata": {},
     "output_type": "execute_result"
    }
   ],
   "source": [
    "df.head()"
   ]
  },
  {
   "cell_type": "code",
   "execution_count": 15,
   "id": "ecc83adf",
   "metadata": {},
   "outputs": [],
   "source": [
    "df.set_index('Date', inplace = True)"
   ]
  },
  {
   "cell_type": "code",
   "execution_count": 16,
   "id": "61186dd0",
   "metadata": {},
   "outputs": [
    {
     "data": {
      "text/html": [
       "<div>\n",
       "<style scoped>\n",
       "    .dataframe tbody tr th:only-of-type {\n",
       "        vertical-align: middle;\n",
       "    }\n",
       "\n",
       "    .dataframe tbody tr th {\n",
       "        vertical-align: top;\n",
       "    }\n",
       "\n",
       "    .dataframe thead th {\n",
       "        text-align: right;\n",
       "    }\n",
       "</style>\n",
       "<table border=\"1\" class=\"dataframe\">\n",
       "  <thead>\n",
       "    <tr style=\"text-align: right;\">\n",
       "      <th></th>\n",
       "      <th>year</th>\n",
       "      <th>month</th>\n",
       "      <th>passengers</th>\n",
       "    </tr>\n",
       "    <tr>\n",
       "      <th>Date</th>\n",
       "      <th></th>\n",
       "      <th></th>\n",
       "      <th></th>\n",
       "    </tr>\n",
       "  </thead>\n",
       "  <tbody>\n",
       "    <tr>\n",
       "      <th>1949-01-01</th>\n",
       "      <td>1949</td>\n",
       "      <td>Jan</td>\n",
       "      <td>112</td>\n",
       "    </tr>\n",
       "    <tr>\n",
       "      <th>1949-02-01</th>\n",
       "      <td>1949</td>\n",
       "      <td>Feb</td>\n",
       "      <td>118</td>\n",
       "    </tr>\n",
       "    <tr>\n",
       "      <th>1949-03-01</th>\n",
       "      <td>1949</td>\n",
       "      <td>Mar</td>\n",
       "      <td>132</td>\n",
       "    </tr>\n",
       "    <tr>\n",
       "      <th>1949-04-01</th>\n",
       "      <td>1949</td>\n",
       "      <td>Apr</td>\n",
       "      <td>129</td>\n",
       "    </tr>\n",
       "    <tr>\n",
       "      <th>1949-05-01</th>\n",
       "      <td>1949</td>\n",
       "      <td>May</td>\n",
       "      <td>121</td>\n",
       "    </tr>\n",
       "  </tbody>\n",
       "</table>\n",
       "</div>"
      ],
      "text/plain": [
       "            year month  passengers\n",
       "Date                              \n",
       "1949-01-01  1949   Jan         112\n",
       "1949-02-01  1949   Feb         118\n",
       "1949-03-01  1949   Mar         132\n",
       "1949-04-01  1949   Apr         129\n",
       "1949-05-01  1949   May         121"
      ]
     },
     "execution_count": 16,
     "metadata": {},
     "output_type": "execute_result"
    }
   ],
   "source": [
    "df.head()"
   ]
  },
  {
   "cell_type": "markdown",
   "id": "532cd466",
   "metadata": {},
   "source": [
    "## How to Identify Stationary vs. Non-Stationary Data?\n",
    "Here are three ways to check if your data is stationary:\n"
   ]
  },
  {
   "cell_type": "markdown",
   "id": "71075b1d",
   "metadata": {},
   "source": [
    "### 1️⃣ Visual Inspection (Plot the Data)\n",
    "* If the data has a trend (upward/downward movement) or seasonality (repeating patterns), it's likely non-stationary.\n",
    "\n",
    "* If the data fluctuates around a constant mean, it’s likely stationary."
   ]
  },
  {
   "cell_type": "code",
   "execution_count": 17,
   "id": "5ddd20ab",
   "metadata": {},
   "outputs": [
    {
     "data": {
      "text/plain": [
       "<Axes: xlabel='Date', ylabel='passengers'>"
      ]
     },
     "execution_count": 17,
     "metadata": {},
     "output_type": "execute_result"
    },
    {
     "data": {
      "image/png": "[encoded data removed]",
      "text/plain": [
       "<Figure size 640x480 with 1 Axes>"
      ]
     },
     "metadata": {},
     "output_type": "display_data"
    }
   ],
   "source": [
    "## let's create lineplot visualization\n",
    "sns.lineplot(data = df, x= df.index, y = df.passengers)"
   ]
  },
  {
   "cell_type": "markdown",
   "id": "a76d6eb8",
   "metadata": {},
   "source": [
    "## 2️⃣ Summary Statistics Check\n",
    "* Divide the data into two equal parts.\n",
    "* Compare the mean and variance of both halves.\n",
    "* If they are significantly different, the data is non-stationary."
   ]
  },
  {
   "cell_type": "code",
   "execution_count": 18,
   "id": "8ac6d2c2",
   "metadata": {},
   "outputs": [
    {
     "name": "stdout",
     "output_type": "stream",
     "text": [
      "First Half Mean: 182.90277777777777\n",
      "Second Half Mean: 377.69444444444446\n",
      "First Half Variance: 2275.6946400625984\n",
      "Second Half Variance: 7471.736306729265\n"
     ]
    }
   ],
   "source": [
    "print(\"First Half Mean:\", df['passengers'][:len(df)//2].mean())\n",
    "print(\"Second Half Mean:\", df['passengers'][len(df)//2:].mean())\n",
    "\n",
    "print(\"First Half Variance:\", df['passengers'][:len(df)//2].var())\n",
    "print(\"Second Half Variance:\", df['passengers'][len(df)//2:].var())\n"
   ]
  },
  {
   "cell_type": "markdown",
   "id": "d6c63c04",
   "metadata": {},
   "source": [
    "## 3️⃣ Augmented Dickey-Fuller (ADF) Test\n",
    "This is a statistical test that checks whether a time series is stationary.\n",
    "\n",
    "* If the p-value < 0.05 → Stationary\n",
    "* If the p-value > 0.05 → Non-Stationary (Needs Differencing)"
   ]
  },
  {
   "cell_type": "code",
   "execution_count": 19,
   "id": "c0e23cbc",
   "metadata": {},
   "outputs": [
    {
     "name": "stdout",
     "output_type": "stream",
     "text": [
      "ADF Statistic: 0.8153688792060463\n",
      "p-value: 0.991880243437641\n",
      "The data is non-stationary (Fail to reject H0).\n"
     ]
    }
   ],
   "source": [
    "from statsmodels.tsa.stattools import adfuller\n",
    "\n",
    "result = adfuller(df['passengers'])\n",
    "print(\"ADF Statistic:\", result[0])\n",
    "print(\"p-value:\", result[1])\n",
    "\n",
    "if result[1] < 0.05:\n",
    "    print(\"The data is stationary (Reject H0).\")\n",
    "else:\n",
    "    print(\"The data is non-stationary (Fail to reject H0).\")\n"
   ]
  },
  {
   "cell_type": "markdown",
   "id": "1be78fea",
   "metadata": {},
   "source": [
    "## How to Make Non-Stationary Data Stationary?\n",
    "As the data is non-stationary, we need to transform it into a stationary series before applying forecasting models like ARIMA. Here are some common techniques to make non-stationary data stationary"
   ]
  },
  {
   "cell_type": "markdown",
   "id": "38bb9174",
   "metadata": {},
   "source": [
    "### 1️⃣  Shift Time Method: \n",
    "Subtracts the value of a previous season from the current value."
   ]
  },
  {
   "cell_type": "code",
   "execution_count": 20,
   "id": "7c3cd23d",
   "metadata": {},
   "outputs": [
    {
     "data": {
      "text/html": [
       "<div>\n",
       "<style scoped>\n",
       "    .dataframe tbody tr th:only-of-type {\n",
       "        vertical-align: middle;\n",
       "    }\n",
       "\n",
       "    .dataframe tbody tr th {\n",
       "        vertical-align: top;\n",
       "    }\n",
       "\n",
       "    .dataframe thead th {\n",
       "        text-align: right;\n",
       "    }\n",
       "</style>\n",
       "<table border=\"1\" class=\"dataframe\">\n",
       "  <thead>\n",
       "    <tr style=\"text-align: right;\">\n",
       "      <th></th>\n",
       "      <th>passengers</th>\n",
       "    </tr>\n",
       "    <tr>\n",
       "      <th>Date</th>\n",
       "      <th></th>\n",
       "    </tr>\n",
       "  </thead>\n",
       "  <tbody>\n",
       "    <tr>\n",
       "      <th>1949-01-01</th>\n",
       "      <td>112</td>\n",
       "    </tr>\n",
       "    <tr>\n",
       "      <th>1949-02-01</th>\n",
       "      <td>118</td>\n",
       "    </tr>\n",
       "    <tr>\n",
       "      <th>1949-03-01</th>\n",
       "      <td>132</td>\n",
       "    </tr>\n",
       "    <tr>\n",
       "      <th>1949-04-01</th>\n",
       "      <td>129</td>\n",
       "    </tr>\n",
       "    <tr>\n",
       "      <th>1949-05-01</th>\n",
       "      <td>121</td>\n",
       "    </tr>\n",
       "  </tbody>\n",
       "</table>\n",
       "</div>"
      ],
      "text/plain": [
       "            passengers\n",
       "Date                  \n",
       "1949-01-01         112\n",
       "1949-02-01         118\n",
       "1949-03-01         132\n",
       "1949-04-01         129\n",
       "1949-05-01         121"
      ]
     },
     "execution_count": 20,
     "metadata": {},
     "output_type": "execute_result"
    }
   ],
   "source": [
    "air_df = df[['passengers']]\n",
    "air_df.head()"
   ]
  },
  {
   "cell_type": "code",
   "execution_count": 21,
   "id": "7265f687",
   "metadata": {},
   "outputs": [
    {
     "name": "stderr",
     "output_type": "stream",
     "text": [
      "C:\\Users\\rm217\\AppData\\Local\\Temp\\ipykernel_17628\\3547432209.py:1: SettingWithCopyWarning: \n",
      "A value is trying to be set on a copy of a slice from a DataFrame.\n",
      "Try using .loc[row_indexer,col_indexer] = value instead\n",
      "\n",
      "See the caveats in the documentation: https://pandas.pydata.org/pandas-docs/stable/user_guide/indexing.html#returning-a-view-versus-a-copy\n",
      "  air_df['shift1'] = air_df['passengers'].shift(1)\n"
     ]
    },
    {
     "data": {
      "text/html": [
       "<div>\n",
       "<style scoped>\n",
       "    .dataframe tbody tr th:only-of-type {\n",
       "        vertical-align: middle;\n",
       "    }\n",
       "\n",
       "    .dataframe tbody tr th {\n",
       "        vertical-align: top;\n",
       "    }\n",
       "\n",
       "    .dataframe thead th {\n",
       "        text-align: right;\n",
       "    }\n",
       "</style>\n",
       "<table border=\"1\" class=\"dataframe\">\n",
       "  <thead>\n",
       "    <tr style=\"text-align: right;\">\n",
       "      <th></th>\n",
       "      <th>passengers</th>\n",
       "      <th>shift1</th>\n",
       "      <th>shiftDiff</th>\n",
       "    </tr>\n",
       "    <tr>\n",
       "      <th>Date</th>\n",
       "      <th></th>\n",
       "      <th></th>\n",
       "      <th></th>\n",
       "    </tr>\n",
       "  </thead>\n",
       "  <tbody>\n",
       "    <tr>\n",
       "      <th>1949-01-01</th>\n",
       "      <td>112</td>\n",
       "      <td>NaN</td>\n",
       "      <td>NaN</td>\n",
       "    </tr>\n",
       "    <tr>\n",
       "      <th>1949-02-01</th>\n",
       "      <td>118</td>\n",
       "      <td>112.0</td>\n",
       "      <td>6.0</td>\n",
       "    </tr>\n",
       "    <tr>\n",
       "      <th>1949-03-01</th>\n",
       "      <td>132</td>\n",
       "      <td>118.0</td>\n",
       "      <td>14.0</td>\n",
       "    </tr>\n",
       "    <tr>\n",
       "      <th>1949-04-01</th>\n",
       "      <td>129</td>\n",
       "      <td>132.0</td>\n",
       "      <td>-3.0</td>\n",
       "    </tr>\n",
       "    <tr>\n",
       "      <th>1949-05-01</th>\n",
       "      <td>121</td>\n",
       "      <td>129.0</td>\n",
       "      <td>-8.0</td>\n",
       "    </tr>\n",
       "  </tbody>\n",
       "</table>\n",
       "</div>"
      ],
      "text/plain": [
       "            passengers  shift1  shiftDiff\n",
       "Date                                     \n",
       "1949-01-01         112     NaN        NaN\n",
       "1949-02-01         118   112.0        6.0\n",
       "1949-03-01         132   118.0       14.0\n",
       "1949-04-01         129   132.0       -3.0\n",
       "1949-05-01         121   129.0       -8.0"
      ]
     },
     "execution_count": 21,
     "metadata": {},
     "output_type": "execute_result"
    }
   ],
   "source": [
    "air_df['shift1'] = air_df['passengers'].shift(1)\n",
    "air_df['shiftDiff'] = air_df['passengers'] - air_df['shift1']\n",
    "air_df.head()"
   ]
  },
  {
   "cell_type": "markdown",
   "id": "52eb9ca3",
   "metadata": {},
   "source": [
    "### Checking if Data is Stationary using ADF test"
   ]
  },
  {
   "cell_type": "code",
   "execution_count": 22,
   "id": "b96d8698",
   "metadata": {},
   "outputs": [
    {
     "name": "stdout",
     "output_type": "stream",
     "text": [
      "ADF Statistic: -2.8292668241699923\n",
      "p-value: 0.054213290283826474\n",
      "The data is still non-stationary ❌\n"
     ]
    }
   ],
   "source": [
    "from statsmodels.tsa.stattools import adfuller\n",
    "\n",
    "result = adfuller(air_df['shiftDiff'].dropna())  # Use transformed column\n",
    "print(\"ADF Statistic:\", result[0])\n",
    "print(\"p-value:\", result[1])\n",
    "\n",
    "if result[1] < 0.05:\n",
    "    print(\"The data is stationary ✅\")\n",
    "else:\n",
    "    print(\"The data is still non-stationary ❌\")\n"
   ]
  },
  {
   "cell_type": "markdown",
   "id": "b9ddab06",
   "metadata": {},
   "source": [
    "## 2️⃣ Now Let's try with Log Transformation Method\n",
    "Reduces large variations in data by compressing high values.\n",
    "\n"
   ]
  },
  {
   "cell_type": "code",
   "execution_count": 23,
   "id": "d7dece1a",
   "metadata": {},
   "outputs": [
    {
     "name": "stderr",
     "output_type": "stream",
     "text": [
      "C:\\Users\\rm217\\AppData\\Local\\Temp\\ipykernel_17628\\3829350932.py:2: SettingWithCopyWarning: \n",
      "A value is trying to be set on a copy of a slice from a DataFrame.\n",
      "Try using .loc[row_indexer,col_indexer] = value instead\n",
      "\n",
      "See the caveats in the documentation: https://pandas.pydata.org/pandas-docs/stable/user_guide/indexing.html#returning-a-view-versus-a-copy\n",
      "  log_df['log'] = np.log(log_df['passengers'])\n"
     ]
    },
    {
     "data": {
      "text/html": [
       "<div>\n",
       "<style scoped>\n",
       "    .dataframe tbody tr th:only-of-type {\n",
       "        vertical-align: middle;\n",
       "    }\n",
       "\n",
       "    .dataframe tbody tr th {\n",
       "        vertical-align: top;\n",
       "    }\n",
       "\n",
       "    .dataframe thead th {\n",
       "        text-align: right;\n",
       "    }\n",
       "</style>\n",
       "<table border=\"1\" class=\"dataframe\">\n",
       "  <thead>\n",
       "    <tr style=\"text-align: right;\">\n",
       "      <th></th>\n",
       "      <th>passengers</th>\n",
       "      <th>log</th>\n",
       "    </tr>\n",
       "    <tr>\n",
       "      <th>Date</th>\n",
       "      <th></th>\n",
       "      <th></th>\n",
       "    </tr>\n",
       "  </thead>\n",
       "  <tbody>\n",
       "    <tr>\n",
       "      <th>1949-01-01</th>\n",
       "      <td>112</td>\n",
       "      <td>4.718499</td>\n",
       "    </tr>\n",
       "    <tr>\n",
       "      <th>1949-02-01</th>\n",
       "      <td>118</td>\n",
       "      <td>4.770685</td>\n",
       "    </tr>\n",
       "    <tr>\n",
       "      <th>1949-03-01</th>\n",
       "      <td>132</td>\n",
       "      <td>4.882802</td>\n",
       "    </tr>\n",
       "    <tr>\n",
       "      <th>1949-04-01</th>\n",
       "      <td>129</td>\n",
       "      <td>4.859812</td>\n",
       "    </tr>\n",
       "    <tr>\n",
       "      <th>1949-05-01</th>\n",
       "      <td>121</td>\n",
       "      <td>4.795791</td>\n",
       "    </tr>\n",
       "  </tbody>\n",
       "</table>\n",
       "</div>"
      ],
      "text/plain": [
       "            passengers       log\n",
       "Date                            \n",
       "1949-01-01         112  4.718499\n",
       "1949-02-01         118  4.770685\n",
       "1949-03-01         132  4.882802\n",
       "1949-04-01         129  4.859812\n",
       "1949-05-01         121  4.795791"
      ]
     },
     "execution_count": 23,
     "metadata": {},
     "output_type": "execute_result"
    }
   ],
   "source": [
    "log_df = df[['passengers']]\n",
    "log_df['log'] = np.log(log_df['passengers'])\n",
    "log_df.head()"
   ]
  },
  {
   "cell_type": "markdown",
   "id": "d0c99c5e",
   "metadata": {},
   "source": [
    "### Checking if Data is Stationary using ADF test"
   ]
  },
  {
   "cell_type": "code",
   "execution_count": 24,
   "id": "07ef8833",
   "metadata": {},
   "outputs": [
    {
     "name": "stdout",
     "output_type": "stream",
     "text": [
      "ADF Statistic: -1.717017089106963\n",
      "p-value: 0.4223667747703902\n",
      "The data is still non-stationary ❌\n"
     ]
    }
   ],
   "source": [
    "from statsmodels.tsa.stattools import adfuller\n",
    "\n",
    "result = adfuller(log_df['log'].dropna())  # Use transformed column\n",
    "print(\"ADF Statistic:\", result[0])\n",
    "print(\"p-value:\", result[1])\n",
    "\n",
    "if result[1] < 0.05:\n",
    "    print(\"The data is stationary ✅\")\n",
    "else:\n",
    "    print(\"The data is still non-stationary ❌\")\n"
   ]
  },
  {
   "cell_type": "markdown",
   "id": "fdb5a25a",
   "metadata": {},
   "source": [
    "## 3️⃣ Now let's try with Square Root Method\n",
    "Stabilizes variance like log transformation but works on negative values too."
   ]
  },
  {
   "cell_type": "code",
   "execution_count": 25,
   "id": "83b061b8",
   "metadata": {},
   "outputs": [
    {
     "name": "stderr",
     "output_type": "stream",
     "text": [
      "C:\\Users\\rm217\\AppData\\Local\\Temp\\ipykernel_17628\\2486983579.py:2: SettingWithCopyWarning: \n",
      "A value is trying to be set on a copy of a slice from a DataFrame.\n",
      "Try using .loc[row_indexer,col_indexer] = value instead\n",
      "\n",
      "See the caveats in the documentation: https://pandas.pydata.org/pandas-docs/stable/user_guide/indexing.html#returning-a-view-versus-a-copy\n",
      "  sqrt_df['sqrt'] = np.sqrt(df['passengers'])\n"
     ]
    },
    {
     "data": {
      "text/html": [
       "<div>\n",
       "<style scoped>\n",
       "    .dataframe tbody tr th:only-of-type {\n",
       "        vertical-align: middle;\n",
       "    }\n",
       "\n",
       "    .dataframe tbody tr th {\n",
       "        vertical-align: top;\n",
       "    }\n",
       "\n",
       "    .dataframe thead th {\n",
       "        text-align: right;\n",
       "    }\n",
       "</style>\n",
       "<table border=\"1\" class=\"dataframe\">\n",
       "  <thead>\n",
       "    <tr style=\"text-align: right;\">\n",
       "      <th></th>\n",
       "      <th>passengers</th>\n",
       "      <th>sqrt</th>\n",
       "    </tr>\n",
       "    <tr>\n",
       "      <th>Date</th>\n",
       "      <th></th>\n",
       "      <th></th>\n",
       "    </tr>\n",
       "  </thead>\n",
       "  <tbody>\n",
       "    <tr>\n",
       "      <th>1949-01-01</th>\n",
       "      <td>112</td>\n",
       "      <td>10.583005</td>\n",
       "    </tr>\n",
       "    <tr>\n",
       "      <th>1949-02-01</th>\n",
       "      <td>118</td>\n",
       "      <td>10.862780</td>\n",
       "    </tr>\n",
       "    <tr>\n",
       "      <th>1949-03-01</th>\n",
       "      <td>132</td>\n",
       "      <td>11.489125</td>\n",
       "    </tr>\n",
       "    <tr>\n",
       "      <th>1949-04-01</th>\n",
       "      <td>129</td>\n",
       "      <td>11.357817</td>\n",
       "    </tr>\n",
       "    <tr>\n",
       "      <th>1949-05-01</th>\n",
       "      <td>121</td>\n",
       "      <td>11.000000</td>\n",
       "    </tr>\n",
       "  </tbody>\n",
       "</table>\n",
       "</div>"
      ],
      "text/plain": [
       "            passengers       sqrt\n",
       "Date                             \n",
       "1949-01-01         112  10.583005\n",
       "1949-02-01         118  10.862780\n",
       "1949-03-01         132  11.489125\n",
       "1949-04-01         129  11.357817\n",
       "1949-05-01         121  11.000000"
      ]
     },
     "execution_count": 25,
     "metadata": {},
     "output_type": "execute_result"
    }
   ],
   "source": [
    "sqrt_df = df[['passengers']]\n",
    "sqrt_df['sqrt'] = np.sqrt(df['passengers'])\n",
    "sqrt_df.head()"
   ]
  },
  {
   "cell_type": "markdown",
   "id": "91e278ef",
   "metadata": {},
   "source": [
    "### Checking if Data is Stationary using ADF test"
   ]
  },
  {
   "cell_type": "code",
   "execution_count": 26,
   "id": "ac73cbb6",
   "metadata": {},
   "outputs": [
    {
     "name": "stdout",
     "output_type": "stream",
     "text": [
      "ADF Statistic: -0.345853767715672\n",
      "p-value: 0.9187543217618374\n",
      "The data is still non-stationary ❌\n"
     ]
    }
   ],
   "source": [
    "from statsmodels.tsa.stattools import adfuller\n",
    "\n",
    "result = adfuller(sqrt_df['sqrt'].dropna())  # Use transformed column\n",
    "print(\"ADF Statistic:\", result[0])\n",
    "print(\"p-value:\", result[1])\n",
    "\n",
    "if result[1] < 0.05:\n",
    "    print(\"The data is stationary ✅\")\n",
    "else:\n",
    "    print(\"The data is still non-stationary ❌\")"
   ]
  },
  {
   "cell_type": "markdown",
   "id": "dfe1b49e",
   "metadata": {},
   "source": [
    "## 4️⃣ Now let's try the combination of all three methods together\n"
   ]
  },
  {
   "cell_type": "code",
   "execution_count": 27,
   "id": "3d6b6347",
   "metadata": {},
   "outputs": [
    {
     "data": {
      "text/html": [
       "<div>\n",
       "<style scoped>\n",
       "    .dataframe tbody tr th:only-of-type {\n",
       "        vertical-align: middle;\n",
       "    }\n",
       "\n",
       "    .dataframe tbody tr th {\n",
       "        vertical-align: top;\n",
       "    }\n",
       "\n",
       "    .dataframe thead th {\n",
       "        text-align: right;\n",
       "    }\n",
       "</style>\n",
       "<table border=\"1\" class=\"dataframe\">\n",
       "  <thead>\n",
       "    <tr style=\"text-align: right;\">\n",
       "      <th></th>\n",
       "      <th>passengers</th>\n",
       "      <th>log</th>\n",
       "      <th>log_sqrt</th>\n",
       "      <th>logShiftDiff</th>\n",
       "    </tr>\n",
       "    <tr>\n",
       "      <th>Date</th>\n",
       "      <th></th>\n",
       "      <th></th>\n",
       "      <th></th>\n",
       "      <th></th>\n",
       "    </tr>\n",
       "  </thead>\n",
       "  <tbody>\n",
       "    <tr>\n",
       "      <th>1949-01-01</th>\n",
       "      <td>112</td>\n",
       "      <td>4.718499</td>\n",
       "      <td>2.172211</td>\n",
       "      <td>NaN</td>\n",
       "    </tr>\n",
       "    <tr>\n",
       "      <th>1949-02-01</th>\n",
       "      <td>118</td>\n",
       "      <td>4.770685</td>\n",
       "      <td>2.184190</td>\n",
       "      <td>0.011979</td>\n",
       "    </tr>\n",
       "    <tr>\n",
       "      <th>1949-03-01</th>\n",
       "      <td>132</td>\n",
       "      <td>4.882802</td>\n",
       "      <td>2.209706</td>\n",
       "      <td>0.025517</td>\n",
       "    </tr>\n",
       "    <tr>\n",
       "      <th>1949-04-01</th>\n",
       "      <td>129</td>\n",
       "      <td>4.859812</td>\n",
       "      <td>2.204498</td>\n",
       "      <td>-0.005208</td>\n",
       "    </tr>\n",
       "    <tr>\n",
       "      <th>1949-05-01</th>\n",
       "      <td>121</td>\n",
       "      <td>4.795791</td>\n",
       "      <td>2.189929</td>\n",
       "      <td>-0.014569</td>\n",
       "    </tr>\n",
       "  </tbody>\n",
       "</table>\n",
       "</div>"
      ],
      "text/plain": [
       "            passengers       log  log_sqrt  logShiftDiff\n",
       "Date                                                    \n",
       "1949-01-01         112  4.718499  2.172211           NaN\n",
       "1949-02-01         118  4.770685  2.184190      0.011979\n",
       "1949-03-01         132  4.882802  2.209706      0.025517\n",
       "1949-04-01         129  4.859812  2.204498     -0.005208\n",
       "1949-05-01         121  4.795791  2.189929     -0.014569"
      ]
     },
     "execution_count": 27,
     "metadata": {},
     "output_type": "execute_result"
    }
   ],
   "source": [
    "log_df2 = log_df[['passengers', 'log']]\n",
    "log_df2['log_sqrt'] = np.sqrt(log_df['log'])\n",
    "log_df2['logShiftDiff'] = log_df2['log_sqrt'] - log_df2['log_sqrt'].shift(1)\n",
    "log_df2.head()"
   ]
  },
  {
   "cell_type": "code",
   "execution_count": 28,
   "id": "a51a98a4",
   "metadata": {},
   "outputs": [
    {
     "name": "stdout",
     "output_type": "stream",
     "text": [
      "ADF Statistic: -2.611019286583825\n",
      "p-value: 0.09074112486704233\n",
      "The data is still non-stationary ❌\n"
     ]
    }
   ],
   "source": [
    "from statsmodels.tsa.stattools import adfuller\n",
    "\n",
    "result = adfuller(log_df2['logShiftDiff'].dropna())  # Use transformed column\n",
    "print(\"ADF Statistic:\", result[0])\n",
    "print(\"p-value:\", result[1])\n",
    "\n",
    "if result[1] < 0.05:\n",
    "    print(\"The data is stationary ✅\")\n",
    "else:\n",
    "    print(\"The data is still non-stationary ❌\")"
   ]
  },
  {
   "cell_type": "markdown",
   "id": "974afd49",
   "metadata": {},
   "source": [
    "# Next Step "
   ]
  },
  {
   "cell_type": "code",
   "execution_count": 29,
   "id": "ee3718e7",
   "metadata": {},
   "outputs": [
    {
     "data": {
      "text/html": [
       "<div>\n",
       "<style scoped>\n",
       "    .dataframe tbody tr th:only-of-type {\n",
       "        vertical-align: middle;\n",
       "    }\n",
       "\n",
       "    .dataframe tbody tr th {\n",
       "        vertical-align: top;\n",
       "    }\n",
       "\n",
       "    .dataframe thead th {\n",
       "        text-align: right;\n",
       "    }\n",
       "</style>\n",
       "<table border=\"1\" class=\"dataframe\">\n",
       "  <thead>\n",
       "    <tr style=\"text-align: right;\">\n",
       "      <th></th>\n",
       "      <th>passengers</th>\n",
       "    </tr>\n",
       "    <tr>\n",
       "      <th>Date</th>\n",
       "      <th></th>\n",
       "    </tr>\n",
       "  </thead>\n",
       "  <tbody>\n",
       "    <tr>\n",
       "      <th>1949-01-01</th>\n",
       "      <td>112</td>\n",
       "    </tr>\n",
       "    <tr>\n",
       "      <th>1949-02-01</th>\n",
       "      <td>118</td>\n",
       "    </tr>\n",
       "    <tr>\n",
       "      <th>1949-03-01</th>\n",
       "      <td>132</td>\n",
       "    </tr>\n",
       "    <tr>\n",
       "      <th>1949-04-01</th>\n",
       "      <td>129</td>\n",
       "    </tr>\n",
       "    <tr>\n",
       "      <th>1949-05-01</th>\n",
       "      <td>121</td>\n",
       "    </tr>\n",
       "  </tbody>\n",
       "</table>\n",
       "</div>"
      ],
      "text/plain": [
       "            passengers\n",
       "Date                  \n",
       "1949-01-01         112\n",
       "1949-02-01         118\n",
       "1949-03-01         132\n",
       "1949-04-01         129\n",
       "1949-05-01         121"
      ]
     },
     "execution_count": 29,
     "metadata": {},
     "output_type": "execute_result"
    }
   ],
   "source": [
    "## Let's create a subset of dataset \n",
    "dff = df[['passengers']]\n",
    "dff.head()"
   ]
  },
  {
   "cell_type": "code",
   "execution_count": 30,
   "id": "df524848",
   "metadata": {},
   "outputs": [
    {
     "name": "stderr",
     "output_type": "stream",
     "text": [
      "C:\\Users\\rm217\\AppData\\Local\\Temp\\ipykernel_17628\\3512555843.py:2: SettingWithCopyWarning: \n",
      "A value is trying to be set on a copy of a slice from a DataFrame.\n",
      "Try using .loc[row_indexer,col_indexer] = value instead\n",
      "\n",
      "See the caveats in the documentation: https://pandas.pydata.org/pandas-docs/stable/user_guide/indexing.html#returning-a-view-versus-a-copy\n",
      "  dff['Diff1'] = dff['passengers'].diff()\n"
     ]
    },
    {
     "data": {
      "text/html": [
       "<div>\n",
       "<style scoped>\n",
       "    .dataframe tbody tr th:only-of-type {\n",
       "        vertical-align: middle;\n",
       "    }\n",
       "\n",
       "    .dataframe tbody tr th {\n",
       "        vertical-align: top;\n",
       "    }\n",
       "\n",
       "    .dataframe thead th {\n",
       "        text-align: right;\n",
       "    }\n",
       "</style>\n",
       "<table border=\"1\" class=\"dataframe\">\n",
       "  <thead>\n",
       "    <tr style=\"text-align: right;\">\n",
       "      <th></th>\n",
       "      <th>passengers</th>\n",
       "      <th>Diff1</th>\n",
       "      <th>Diff12</th>\n",
       "    </tr>\n",
       "    <tr>\n",
       "      <th>Date</th>\n",
       "      <th></th>\n",
       "      <th></th>\n",
       "      <th></th>\n",
       "    </tr>\n",
       "  </thead>\n",
       "  <tbody>\n",
       "    <tr>\n",
       "      <th>1949-01-01</th>\n",
       "      <td>112</td>\n",
       "      <td>NaN</td>\n",
       "      <td>NaN</td>\n",
       "    </tr>\n",
       "    <tr>\n",
       "      <th>1949-02-01</th>\n",
       "      <td>118</td>\n",
       "      <td>6.0</td>\n",
       "      <td>NaN</td>\n",
       "    </tr>\n",
       "    <tr>\n",
       "      <th>1949-03-01</th>\n",
       "      <td>132</td>\n",
       "      <td>14.0</td>\n",
       "      <td>NaN</td>\n",
       "    </tr>\n",
       "    <tr>\n",
       "      <th>1949-04-01</th>\n",
       "      <td>129</td>\n",
       "      <td>-3.0</td>\n",
       "      <td>NaN</td>\n",
       "    </tr>\n",
       "    <tr>\n",
       "      <th>1949-05-01</th>\n",
       "      <td>121</td>\n",
       "      <td>-8.0</td>\n",
       "      <td>NaN</td>\n",
       "    </tr>\n",
       "  </tbody>\n",
       "</table>\n",
       "</div>"
      ],
      "text/plain": [
       "            passengers  Diff1  Diff12\n",
       "Date                                 \n",
       "1949-01-01         112    NaN     NaN\n",
       "1949-02-01         118    6.0     NaN\n",
       "1949-03-01         132   14.0     NaN\n",
       "1949-04-01         129   -3.0     NaN\n",
       "1949-05-01         121   -8.0     NaN"
      ]
     },
     "execution_count": 30,
     "metadata": {},
     "output_type": "execute_result"
    }
   ],
   "source": [
    "## Let's create two more variable two reduce the seasonality\n",
    "dff['Diff1'] = dff['passengers'].diff()\n",
    "dff['Diff12'] = dff['passengers'].diff(12)   #As there was seasonality of 12 months\n",
    "dff.head()"
   ]
  },
  {
   "cell_type": "markdown",
   "id": "3460c807",
   "metadata": {},
   "source": [
    "# Step 4: Determine ARIMA Parameters (p, d, q)\n"
   ]
  },
  {
   "cell_type": "markdown",
   "id": "98503494",
   "metadata": {},
   "source": [
    "* 1. p (AutoRegressive - AR term) - It represents the number of past values (lags) used to predict future values.\n",
    "* 2. d (Differencing - I term) - It represents the number of times the data is differenced to make it stationary.\n",
    "* 3. q (Moving Average - MA term) - It represents the number of past error terms (residuals) used to predict future values.\n"
   ]
  },
  {
   "cell_type": "code",
   "execution_count": 31,
   "id": "307a5f51",
   "metadata": {},
   "outputs": [],
   "source": [
    "## Importing important libraries\n",
    "\n",
    "from statsmodels.tsa.arima_model import ARIMA\n",
    "from statsmodels.graphics.tsaplots import plot_acf, plot_pacf"
   ]
  },
  {
   "cell_type": "markdown",
   "id": "f0d67706",
   "metadata": {},
   "source": [
    "### 1. Find d (Differencing Order)"
   ]
  },
  {
   "cell_type": "markdown",
   "id": "898b8a32",
   "metadata": {},
   "source": [
    "* d is simply the differencing value (lag value) that we used for ADF test so d = 1"
   ]
  },
  {
   "cell_type": "markdown",
   "id": "f343df22",
   "metadata": {},
   "source": [
    "### 2. Find p (AR Order) using PACF\n",
    "Once data is stationary, p is determined using the Partial Autocorrelation Function (PACF) plot.\n"
   ]
  },
  {
   "cell_type": "code",
   "execution_count": 32,
   "id": "4fcdc52d",
   "metadata": {},
   "outputs": [
    {
     "name": "stderr",
     "output_type": "stream",
     "text": [
      "C:\\Users\\rm217\\anaconda3\\Lib\\site-packages\\statsmodels\\graphics\\tsaplots.py:348: FutureWarning: The default method 'yw' can produce PACF values outside of the [-1,1] interval. After 0.13, the default will change tounadjusted Yule-Walker ('ywm'). You can use this method now by setting method='ywm'.\n",
      "  warnings.warn(\n"
     ]
    },
    {
     "data": {
      "image/png": "[encoded data removed]",
      "text/plain": [
       "<Figure size 640x480 with 1 Axes>"
      ]
     },
     "metadata": {},
     "output_type": "display_data"
    }
   ],
   "source": [
    "plot_pacf(dff['Diff1'].dropna(), lags=20)\n",
    "plt.show()"
   ]
  },
  {
   "cell_type": "markdown",
   "id": "118f8457",
   "metadata": {},
   "source": [
    "### 3. Find q (MA Order) using ACF\n",
    "The q value is determined using the AutoCorrelation Function (ACF) plot.\n"
   ]
  },
  {
   "cell_type": "code",
   "execution_count": 33,
   "id": "e7179163",
   "metadata": {},
   "outputs": [
    {
     "data": {
      "image/png": "[encoded data removed]",
      "text/plain": [
       "<Figure size 640x480 with 1 Axes>"
      ]
     },
     "metadata": {},
     "output_type": "display_data"
    }
   ],
   "source": [
    "plot_acf(dff['Diff1'].dropna(), lags=20)\n",
    "plt.show()"
   ]
  },
  {
   "cell_type": "markdown",
   "id": "495c6048",
   "metadata": {},
   "source": [
    "### Split the Data (70% Training, 30% Testing)\n"
   ]
  },
  {
   "cell_type": "code",
   "execution_count": 34,
   "id": "92274c32",
   "metadata": {},
   "outputs": [
    {
     "data": {
      "text/html": [
       "<div>\n",
       "<style scoped>\n",
       "    .dataframe tbody tr th:only-of-type {\n",
       "        vertical-align: middle;\n",
       "    }\n",
       "\n",
       "    .dataframe tbody tr th {\n",
       "        vertical-align: top;\n",
       "    }\n",
       "\n",
       "    .dataframe thead th {\n",
       "        text-align: right;\n",
       "    }\n",
       "</style>\n",
       "<table border=\"1\" class=\"dataframe\">\n",
       "  <thead>\n",
       "    <tr style=\"text-align: right;\">\n",
       "      <th></th>\n",
       "      <th>passengers</th>\n",
       "      <th>Diff1</th>\n",
       "      <th>Diff12</th>\n",
       "    </tr>\n",
       "    <tr>\n",
       "      <th>Date</th>\n",
       "      <th></th>\n",
       "      <th></th>\n",
       "      <th></th>\n",
       "    </tr>\n",
       "  </thead>\n",
       "  <tbody>\n",
       "    <tr>\n",
       "      <th>1957-06-01</th>\n",
       "      <td>422</td>\n",
       "      <td>67.0</td>\n",
       "      <td>48.0</td>\n",
       "    </tr>\n",
       "    <tr>\n",
       "      <th>1957-07-01</th>\n",
       "      <td>465</td>\n",
       "      <td>43.0</td>\n",
       "      <td>52.0</td>\n",
       "    </tr>\n",
       "    <tr>\n",
       "      <th>1957-08-01</th>\n",
       "      <td>467</td>\n",
       "      <td>2.0</td>\n",
       "      <td>62.0</td>\n",
       "    </tr>\n",
       "    <tr>\n",
       "      <th>1957-09-01</th>\n",
       "      <td>404</td>\n",
       "      <td>-63.0</td>\n",
       "      <td>49.0</td>\n",
       "    </tr>\n",
       "    <tr>\n",
       "      <th>1957-10-01</th>\n",
       "      <td>347</td>\n",
       "      <td>-57.0</td>\n",
       "      <td>41.0</td>\n",
       "    </tr>\n",
       "  </tbody>\n",
       "</table>\n",
       "</div>"
      ],
      "text/plain": [
       "            passengers  Diff1  Diff12\n",
       "Date                                 \n",
       "1957-06-01         422   67.0    48.0\n",
       "1957-07-01         465   43.0    52.0\n",
       "1957-08-01         467    2.0    62.0\n",
       "1957-09-01         404  -63.0    49.0\n",
       "1957-10-01         347  -57.0    41.0"
      ]
     },
     "execution_count": 34,
     "metadata": {},
     "output_type": "execute_result"
    }
   ],
   "source": [
    "train = dff[:round(len(dff)*0.7)]\n",
    "test = dff[round(len(dff)*0.7):]\n",
    "test.head()"
   ]
  },
  {
   "cell_type": "markdown",
   "id": "14540c44",
   "metadata": {},
   "source": [
    "### Train the ARIMA Model on Training Data & Make Predictions on the Test Data"
   ]
  },
  {
   "cell_type": "code",
   "execution_count": 35,
   "id": "c3cf69bf",
   "metadata": {},
   "outputs": [
    {
     "name": "stderr",
     "output_type": "stream",
     "text": [
      "C:\\Users\\rm217\\anaconda3\\Lib\\site-packages\\statsmodels\\tsa\\base\\tsa_model.py:471: ValueWarning: No frequency information was provided, so inferred frequency MS will be used.\n",
      "  self._init_dates(dates, freq)\n",
      "C:\\Users\\rm217\\anaconda3\\Lib\\site-packages\\statsmodels\\tsa\\base\\tsa_model.py:471: ValueWarning: No frequency information was provided, so inferred frequency MS will be used.\n",
      "  self._init_dates(dates, freq)\n",
      "C:\\Users\\rm217\\anaconda3\\Lib\\site-packages\\statsmodels\\tsa\\base\\tsa_model.py:471: ValueWarning: No frequency information was provided, so inferred frequency MS will be used.\n",
      "  self._init_dates(dates, freq)\n"
     ]
    },
    {
     "data": {
      "text/html": [
       "<div>\n",
       "<style scoped>\n",
       "    .dataframe tbody tr th:only-of-type {\n",
       "        vertical-align: middle;\n",
       "    }\n",
       "\n",
       "    .dataframe tbody tr th {\n",
       "        vertical-align: top;\n",
       "    }\n",
       "\n",
       "    .dataframe thead th {\n",
       "        text-align: right;\n",
       "    }\n",
       "</style>\n",
       "<table border=\"1\" class=\"dataframe\">\n",
       "  <thead>\n",
       "    <tr style=\"text-align: right;\">\n",
       "      <th></th>\n",
       "      <th>passengers</th>\n",
       "      <th>Diff1</th>\n",
       "      <th>Diff12</th>\n",
       "      <th>arimaPred</th>\n",
       "    </tr>\n",
       "    <tr>\n",
       "      <th>Date</th>\n",
       "      <th></th>\n",
       "      <th></th>\n",
       "      <th></th>\n",
       "      <th></th>\n",
       "    </tr>\n",
       "  </thead>\n",
       "  <tbody>\n",
       "    <tr>\n",
       "      <th>1960-08-01</th>\n",
       "      <td>606</td>\n",
       "      <td>-16.0</td>\n",
       "      <td>47.0</td>\n",
       "      <td>341.111333</td>\n",
       "    </tr>\n",
       "    <tr>\n",
       "      <th>1960-09-01</th>\n",
       "      <td>508</td>\n",
       "      <td>-98.0</td>\n",
       "      <td>45.0</td>\n",
       "      <td>341.111333</td>\n",
       "    </tr>\n",
       "    <tr>\n",
       "      <th>1960-10-01</th>\n",
       "      <td>461</td>\n",
       "      <td>-47.0</td>\n",
       "      <td>54.0</td>\n",
       "      <td>341.111333</td>\n",
       "    </tr>\n",
       "    <tr>\n",
       "      <th>1960-11-01</th>\n",
       "      <td>390</td>\n",
       "      <td>-71.0</td>\n",
       "      <td>28.0</td>\n",
       "      <td>341.111333</td>\n",
       "    </tr>\n",
       "    <tr>\n",
       "      <th>1960-12-01</th>\n",
       "      <td>432</td>\n",
       "      <td>42.0</td>\n",
       "      <td>27.0</td>\n",
       "      <td>341.111333</td>\n",
       "    </tr>\n",
       "  </tbody>\n",
       "</table>\n",
       "</div>"
      ],
      "text/plain": [
       "            passengers  Diff1  Diff12   arimaPred\n",
       "Date                                             \n",
       "1960-08-01         606  -16.0    47.0  341.111333\n",
       "1960-09-01         508  -98.0    45.0  341.111333\n",
       "1960-10-01         461  -47.0    54.0  341.111333\n",
       "1960-11-01         390  -71.0    28.0  341.111333\n",
       "1960-12-01         432   42.0    27.0  341.111333"
      ]
     },
     "execution_count": 35,
     "metadata": {},
     "output_type": "execute_result"
    }
   ],
   "source": [
    "from statsmodels.tsa.arima.model import ARIMA\n",
    "\n",
    "# Fit the ARIMA model using training data\n",
    "model = ARIMA(train['passengers'], order=(1,1,3))  # (p=1, d=1, q=3)\n",
    "model_fit = model.fit()\n",
    "\n",
    "# Prection on Test Data\n",
    "prediction = model_fit.predict(start = test.index[0], end = test.index[-1])\n",
    "\n",
    "# Creating new column for predicion value\n",
    "dff['arimaPred'] = prediction\n",
    "\n",
    "# To show the data\n",
    "dff.tail()"
   ]
  },
  {
   "cell_type": "markdown",
   "id": "0875e5cc",
   "metadata": {},
   "source": [
    "### Visualize the Actual vs. Predicted Values"
   ]
  },
  {
   "cell_type": "code",
   "execution_count": 36,
   "id": "f6c52651",
   "metadata": {},
   "outputs": [
    {
     "data": {
      "text/plain": [
       "<Axes: xlabel='Date', ylabel='passengers'>"
      ]
     },
     "execution_count": 36,
     "metadata": {},
     "output_type": "execute_result"
    },
    {
     "data": {
      "image/png": "[encoded data removed]",
      "text/plain": [
       "<Figure size 640x480 with 1 Axes>"
      ]
     },
     "metadata": {},
     "output_type": "display_data"
    }
   ],
   "source": [
    "dff.dropna()\n",
    "sns.lineplot(data = dff, x = dff.index, y = dff['passengers'])\n",
    "sns.lineplot(data = dff, x = dff.index, y = dff['arimaPred'])\n"
   ]
  },
  {
   "cell_type": "markdown",
   "id": "7ae9e4f2",
   "metadata": {},
   "source": [
    "### Evaluate Model Performance (MSE, RMSE, MAE)\n",
    "To measure how well the model performed, calculate Mean Squared Error (MSE), Root Mean Squared Error (RMSE), and Mean Absolute Error (MAE)."
   ]
  },
  {
   "cell_type": "code",
   "execution_count": 37,
   "id": "68ee0c8a",
   "metadata": {},
   "outputs": [
    {
     "name": "stdout",
     "output_type": "stream",
     "text": [
      "Mean Squared Error (MSE):  12345.455074143723\n",
      "Root Mean Squared Error (RMSE):  111.11010338463251\n",
      "Mean Absolute Error (MAE):  85.2024011089832\n"
     ]
    }
   ],
   "source": [
    "from sklearn.metrics import mean_squared_error, mean_absolute_error\n",
    "\n",
    "# Calculate MSE and RMSE\n",
    "mse = mean_squared_error(test['passengers'], prediction)\n",
    "rmse = np.sqrt(mse)\n",
    "mae = mean_absolute_error(test['passengers'], prediction)\n",
    "\n",
    "print('Mean Squared Error (MSE): ', mse)\n",
    "print('Root Mean Squared Error (RMSE): ', rmse)\n",
    "print('Mean Absolute Error (MAE): ', mae)\n"
   ]
  },
  {
   "cell_type": "markdown",
   "id": "f1cde8f1",
   "metadata": {},
   "source": [
    "### Find p, and q for SARIMA Model"
   ]
  },
  {
   "cell_type": "code",
   "execution_count": 38,
   "id": "4e0ff8bc",
   "metadata": {},
   "outputs": [
    {
     "name": "stderr",
     "output_type": "stream",
     "text": [
      "C:\\Users\\rm217\\anaconda3\\Lib\\site-packages\\statsmodels\\graphics\\tsaplots.py:348: FutureWarning: The default method 'yw' can produce PACF values outside of the [-1,1] interval. After 0.13, the default will change tounadjusted Yule-Walker ('ywm'). You can use this method now by setting method='ywm'.\n",
      "  warnings.warn(\n"
     ]
    },
    {
     "data": {
      "image/png": "[encoded data removed]",
      "text/plain": [
       "<Figure size 640x480 with 1 Axes>"
      ]
     },
     "metadata": {},
     "output_type": "display_data"
    },
    {
     "data": {
      "image/png": "[encoded data removed]",
      "text/plain": [
       "<Figure size 640x480 with 1 Axes>"
      ]
     },
     "metadata": {},
     "output_type": "display_data"
    }
   ],
   "source": [
    "# for p\n",
    "plot_pacf(dff['Diff12'].dropna(), lags=20)\n",
    "plt.show()\n",
    "\n",
    "# for q\n",
    "plot_acf(dff['Diff12'].dropna(), lags=20)\n",
    "plt.show()"
   ]
  },
  {
   "cell_type": "markdown",
   "id": "fc02ced3",
   "metadata": {},
   "source": [
    "### Fit SARIMA Model"
   ]
  },
  {
   "cell_type": "code",
   "execution_count": 39,
   "id": "29a8e64c",
   "metadata": {},
   "outputs": [
    {
     "name": "stderr",
     "output_type": "stream",
     "text": [
      "C:\\Users\\rm217\\anaconda3\\Lib\\site-packages\\statsmodels\\tsa\\base\\tsa_model.py:471: ValueWarning: No frequency information was provided, so inferred frequency MS will be used.\n",
      "  self._init_dates(dates, freq)\n",
      "C:\\Users\\rm217\\anaconda3\\Lib\\site-packages\\statsmodels\\tsa\\base\\tsa_model.py:471: ValueWarning: No frequency information was provided, so inferred frequency MS will be used.\n",
      "  self._init_dates(dates, freq)\n",
      "C:\\Users\\rm217\\anaconda3\\Lib\\site-packages\\statsmodels\\tsa\\statespace\\sarimax.py:997: UserWarning: Non-stationary starting seasonal autoregressive Using zeros as starting parameters.\n",
      "  warn('Non-stationary starting seasonal autoregressive'\n",
      "C:\\Users\\rm217\\anaconda3\\Lib\\site-packages\\statsmodels\\tsa\\statespace\\sarimax.py:1009: UserWarning: Non-invertible starting seasonal moving average Using zeros as starting parameters.\n",
      "  warn('Non-invertible starting seasonal moving average'\n",
      "C:\\Users\\rm217\\anaconda3\\Lib\\site-packages\\statsmodels\\base\\model.py:604: ConvergenceWarning: Maximum Likelihood optimization failed to converge. Check mle_retvals\n",
      "  warnings.warn(\"Maximum Likelihood optimization failed to \"\n"
     ]
    },
    {
     "data": {
      "text/html": [
       "<div>\n",
       "<style scoped>\n",
       "    .dataframe tbody tr th:only-of-type {\n",
       "        vertical-align: middle;\n",
       "    }\n",
       "\n",
       "    .dataframe tbody tr th {\n",
       "        vertical-align: top;\n",
       "    }\n",
       "\n",
       "    .dataframe thead th {\n",
       "        text-align: right;\n",
       "    }\n",
       "</style>\n",
       "<table border=\"1\" class=\"dataframe\">\n",
       "  <thead>\n",
       "    <tr style=\"text-align: right;\">\n",
       "      <th></th>\n",
       "      <th>passengers</th>\n",
       "      <th>Diff1</th>\n",
       "      <th>Diff12</th>\n",
       "      <th>arimaPred</th>\n",
       "      <th>sarimaPred</th>\n",
       "    </tr>\n",
       "    <tr>\n",
       "      <th>Date</th>\n",
       "      <th></th>\n",
       "      <th></th>\n",
       "      <th></th>\n",
       "      <th></th>\n",
       "      <th></th>\n",
       "    </tr>\n",
       "  </thead>\n",
       "  <tbody>\n",
       "    <tr>\n",
       "      <th>1960-08-01</th>\n",
       "      <td>606</td>\n",
       "      <td>-16.0</td>\n",
       "      <td>47.0</td>\n",
       "      <td>341.111333</td>\n",
       "      <td>598.413340</td>\n",
       "    </tr>\n",
       "    <tr>\n",
       "      <th>1960-09-01</th>\n",
       "      <td>508</td>\n",
       "      <td>-98.0</td>\n",
       "      <td>45.0</td>\n",
       "      <td>341.111333</td>\n",
       "      <td>534.029299</td>\n",
       "    </tr>\n",
       "    <tr>\n",
       "      <th>1960-10-01</th>\n",
       "      <td>461</td>\n",
       "      <td>-47.0</td>\n",
       "      <td>54.0</td>\n",
       "      <td>341.111333</td>\n",
       "      <td>478.823230</td>\n",
       "    </tr>\n",
       "    <tr>\n",
       "      <th>1960-11-01</th>\n",
       "      <td>390</td>\n",
       "      <td>-71.0</td>\n",
       "      <td>28.0</td>\n",
       "      <td>341.111333</td>\n",
       "      <td>431.467394</td>\n",
       "    </tr>\n",
       "    <tr>\n",
       "      <th>1960-12-01</th>\n",
       "      <td>432</td>\n",
       "      <td>42.0</td>\n",
       "      <td>27.0</td>\n",
       "      <td>341.111333</td>\n",
       "      <td>476.839415</td>\n",
       "    </tr>\n",
       "  </tbody>\n",
       "</table>\n",
       "</div>"
      ],
      "text/plain": [
       "            passengers  Diff1  Diff12   arimaPred  sarimaPred\n",
       "Date                                                         \n",
       "1960-08-01         606  -16.0    47.0  341.111333  598.413340\n",
       "1960-09-01         508  -98.0    45.0  341.111333  534.029299\n",
       "1960-10-01         461  -47.0    54.0  341.111333  478.823230\n",
       "1960-11-01         390  -71.0    28.0  341.111333  431.467394\n",
       "1960-12-01         432   42.0    27.0  341.111333  476.839415"
      ]
     },
     "execution_count": 39,
     "metadata": {},
     "output_type": "execute_result"
    }
   ],
   "source": [
    "from statsmodels.tsa.statespace.sarimax import SARIMAX\n",
    "\n",
    "# Define SARIMA model\n",
    "sarima_model = SARIMAX(train['passengers'], \n",
    "                       order=(1,1,3),  # ARIMA (p,d,q)\n",
    "                       seasonal_order=(2,1,2,12))  # Seasonal (P,D,Q,s)\n",
    "\n",
    "# Fit the model\n",
    "model_fit = sarima_model.fit()\n",
    "\n",
    "# Prection on Test Data\n",
    "prediction = model_fit.predict(start = test.index[0], end = test.index[-1])\n",
    "\n",
    "# Creating new column for predicion value\n",
    "dff['sarimaPred'] = prediction\n",
    "\n",
    "# To show the data\n",
    "dff.tail()"
   ]
  },
  {
   "cell_type": "markdown",
   "id": "c0e3186c",
   "metadata": {},
   "source": [
    "### Visualize the Actual vs. Predicted Values with SARIMA "
   ]
  },
  {
   "cell_type": "code",
   "execution_count": 40,
   "id": "fe841ef2",
   "metadata": {},
   "outputs": [
    {
     "data": {
      "text/plain": [
       "<Axes: xlabel='Date', ylabel='passengers'>"
      ]
     },
     "execution_count": 40,
     "metadata": {},
     "output_type": "execute_result"
    },
    {
     "data": {
      "image/png": "[encoded data removed]",
      "text/plain": [
       "<Figure size 640x480 with 1 Axes>"
      ]
     },
     "metadata": {},
     "output_type": "display_data"
    }
   ],
   "source": [
    "dff.dropna()\n",
    "sns.lineplot(data = dff, x = dff.index, y = dff['passengers'])\n",
    "sns.lineplot(data = dff, x = dff.index, y = dff['sarimaPred'])"
   ]
  },
  {
   "cell_type": "markdown",
   "id": "d8c51c62",
   "metadata": {},
   "source": [
    "### Evaluate SARIMA Model\n",
    "Check errors just like ARIMA:"
   ]
  },
  {
   "cell_type": "code",
   "execution_count": 41,
   "id": "b1994180",
   "metadata": {},
   "outputs": [
    {
     "name": "stdout",
     "output_type": "stream",
     "text": [
      "Mean Squared Error (MSE):  756.3497720274069\n",
      "Root Mean Squared Error (RMSE):  27.50181397703444\n",
      "Mean Absolute Error (MAE):  24.30414264868377\n"
     ]
    }
   ],
   "source": [
    "from sklearn.metrics import mean_squared_error, mean_absolute_error\n",
    "\n",
    "# Calculate MSE and RMSE\n",
    "mse = mean_squared_error(test['passengers'], prediction)\n",
    "rmse = np.sqrt(mse)\n",
    "mae = mean_absolute_error(test['passengers'], prediction)\n",
    "\n",
    "print('Mean Squared Error (MSE): ', mse)\n",
    "print('Root Mean Squared Error (RMSE): ', rmse)\n",
    "print('Mean Absolute Error (MAE): ', mae)\n"
   ]
  },
  {
   "cell_type": "markdown",
   "id": "0cea8657",
   "metadata": {},
   "source": [
    "##  Forecast Future Values"
   ]
  },
  {
   "cell_type": "code",
   "execution_count": 42,
   "id": "b067b07b",
   "metadata": {},
   "outputs": [
    {
     "data": {
      "text/html": [
       "<div>\n",
       "<style scoped>\n",
       "    .dataframe tbody tr th:only-of-type {\n",
       "        vertical-align: middle;\n",
       "    }\n",
       "\n",
       "    .dataframe tbody tr th {\n",
       "        vertical-align: top;\n",
       "    }\n",
       "\n",
       "    .dataframe thead th {\n",
       "        text-align: right;\n",
       "    }\n",
       "</style>\n",
       "<table border=\"1\" class=\"dataframe\">\n",
       "  <thead>\n",
       "    <tr style=\"text-align: right;\">\n",
       "      <th></th>\n",
       "      <th>passengers</th>\n",
       "      <th>Diff1</th>\n",
       "      <th>Diff12</th>\n",
       "      <th>arimaPred</th>\n",
       "      <th>sarimaPred</th>\n",
       "    </tr>\n",
       "    <tr>\n",
       "      <th>Date</th>\n",
       "      <th></th>\n",
       "      <th></th>\n",
       "      <th></th>\n",
       "      <th></th>\n",
       "      <th></th>\n",
       "    </tr>\n",
       "  </thead>\n",
       "  <tbody>\n",
       "    <tr>\n",
       "      <th>1960-08-01</th>\n",
       "      <td>606</td>\n",
       "      <td>-16.0</td>\n",
       "      <td>47.0</td>\n",
       "      <td>341.111333</td>\n",
       "      <td>598.413340</td>\n",
       "    </tr>\n",
       "    <tr>\n",
       "      <th>1960-09-01</th>\n",
       "      <td>508</td>\n",
       "      <td>-98.0</td>\n",
       "      <td>45.0</td>\n",
       "      <td>341.111333</td>\n",
       "      <td>534.029299</td>\n",
       "    </tr>\n",
       "    <tr>\n",
       "      <th>1960-10-01</th>\n",
       "      <td>461</td>\n",
       "      <td>-47.0</td>\n",
       "      <td>54.0</td>\n",
       "      <td>341.111333</td>\n",
       "      <td>478.823230</td>\n",
       "    </tr>\n",
       "    <tr>\n",
       "      <th>1960-11-01</th>\n",
       "      <td>390</td>\n",
       "      <td>-71.0</td>\n",
       "      <td>28.0</td>\n",
       "      <td>341.111333</td>\n",
       "      <td>431.467394</td>\n",
       "    </tr>\n",
       "    <tr>\n",
       "      <th>1960-12-01</th>\n",
       "      <td>432</td>\n",
       "      <td>42.0</td>\n",
       "      <td>27.0</td>\n",
       "      <td>341.111333</td>\n",
       "      <td>476.839415</td>\n",
       "    </tr>\n",
       "  </tbody>\n",
       "</table>\n",
       "</div>"
      ],
      "text/plain": [
       "            passengers  Diff1  Diff12   arimaPred  sarimaPred\n",
       "Date                                                         \n",
       "1960-08-01         606  -16.0    47.0  341.111333  598.413340\n",
       "1960-09-01         508  -98.0    45.0  341.111333  534.029299\n",
       "1960-10-01         461  -47.0    54.0  341.111333  478.823230\n",
       "1960-11-01         390  -71.0    28.0  341.111333  431.467394\n",
       "1960-12-01         432   42.0    27.0  341.111333  476.839415"
      ]
     },
     "execution_count": 42,
     "metadata": {},
     "output_type": "execute_result"
    }
   ],
   "source": [
    "## Check the last date\n",
    "dff.tail()"
   ]
  },
  {
   "cell_type": "markdown",
   "id": "927dacb2",
   "metadata": {},
   "source": [
    "### Create a dataframe for future dates"
   ]
  },
  {
   "cell_type": "code",
   "execution_count": 43,
   "id": "5efb42ed",
   "metadata": {},
   "outputs": [
    {
     "data": {
      "text/html": [
       "<div>\n",
       "<style scoped>\n",
       "    .dataframe tbody tr th:only-of-type {\n",
       "        vertical-align: middle;\n",
       "    }\n",
       "\n",
       "    .dataframe tbody tr th {\n",
       "        vertical-align: top;\n",
       "    }\n",
       "\n",
       "    .dataframe thead th {\n",
       "        text-align: right;\n",
       "    }\n",
       "</style>\n",
       "<table border=\"1\" class=\"dataframe\">\n",
       "  <thead>\n",
       "    <tr style=\"text-align: right;\">\n",
       "      <th></th>\n",
       "    </tr>\n",
       "    <tr>\n",
       "      <th>Dates</th>\n",
       "    </tr>\n",
       "  </thead>\n",
       "  <tbody>\n",
       "    <tr>\n",
       "      <th>1961-01-01</th>\n",
       "    </tr>\n",
       "    <tr>\n",
       "      <th>1961-02-01</th>\n",
       "    </tr>\n",
       "    <tr>\n",
       "      <th>1961-03-01</th>\n",
       "    </tr>\n",
       "    <tr>\n",
       "      <th>1961-04-01</th>\n",
       "    </tr>\n",
       "    <tr>\n",
       "      <th>1961-05-01</th>\n",
       "    </tr>\n",
       "  </tbody>\n",
       "</table>\n",
       "</div>"
      ],
      "text/plain": [
       "Empty DataFrame\n",
       "Columns: []\n",
       "Index: [1961-01-01 00:00:00, 1961-02-01 00:00:00, 1961-03-01 00:00:00, 1961-04-01 00:00:00, 1961-05-01 00:00:00]"
      ]
     },
     "execution_count": 43,
     "metadata": {},
     "output_type": "execute_result"
    }
   ],
   "source": [
    "# Create DataFrame with Date Range\n",
    "futureDate = pd.DataFrame({'Dates': pd.date_range(start='1961-01-01', end='1962-12-01', freq='MS')})\n",
    "futureDate.set_index('Dates', inplace = True)\n",
    "futureDate.head()"
   ]
  },
  {
   "cell_type": "markdown",
   "id": "9c9a5407",
   "metadata": {},
   "source": [
    "## Predicting values for future dates"
   ]
  },
  {
   "cell_type": "code",
   "execution_count": 44,
   "id": "0a434c5e",
   "metadata": {},
   "outputs": [
    {
     "data": {
      "text/plain": [
       "1961-01-01    490.668953\n",
       "1961-02-01    465.159807\n",
       "1961-03-01    532.965630\n",
       "1961-04-01    530.209548\n",
       "1961-05-01    542.083695\n",
       "Freq: MS, Name: predicted_mean, dtype: float64"
      ]
     },
     "execution_count": 44,
     "metadata": {},
     "output_type": "execute_result"
    }
   ],
   "source": [
    "future_prediction = model_fit.predict(start = futureDate.index[0], end = futureDate.index[-1])\n",
    "future_prediction.head()"
   ]
  },
  {
   "cell_type": "markdown",
   "id": "a9054a6b",
   "metadata": {},
   "source": [
    "## Visualize the Forecast"
   ]
  },
  {
   "cell_type": "code",
   "execution_count": 45,
   "id": "97af8d31",
   "metadata": {},
   "outputs": [
    {
     "data": {
      "text/plain": [
       "<Axes: xlabel='Date', ylabel='passengers'>"
      ]
     },
     "execution_count": 45,
     "metadata": {},
     "output_type": "execute_result"
    },
    {
     "data": {
      "image/png": "[encoded data removed]",
      "text/plain": [
       "<Figure size 640x480 with 1 Axes>"
      ]
     },
     "metadata": {},
     "output_type": "display_data"
    }
   ],
   "source": [
    "dff.dropna()\n",
    "sns.lineplot(data = dff, x = dff.index, y = dff['passengers'])  #Actual data\n",
    "sns.lineplot(data = dff, x = dff.index, y = dff['sarimaPred'])  #Prediction on test data\n",
    "future_prediction.plot()                               #Prediction on future"
   ]
  },
  {
   "cell_type": "markdown",
   "id": "3c9f73bd",
   "metadata": {},
   "source": [
    "### Adding the data labels"
   ]
  },
  {
   "cell_type": "code",
   "execution_count": 46,
   "id": "193dba47",
   "metadata": {},
   "outputs": [
    {
     "data": {
      "text/plain": [
       "<Axes: xlabel='Date', ylabel='passengers'>"
      ]
     },
     "execution_count": 46,
     "metadata": {},
     "output_type": "execute_result"
    },
    {
     "data": {
      "image/png": "[encoded data removed]",
      "text/plain": [
       "<Figure size 640x480 with 1 Axes>"
      ]
     },
     "metadata": {},
     "output_type": "display_data"
    }
   ],
   "source": [
    "dff.dropna()\n",
    "sns.lineplot(data = dff, x = dff.index, y = dff['passengers'], label = 'Acutal Data')  #Actual data\n",
    "sns.lineplot(data = dff, x = dff.index, y = dff['sarimaPred'], label = 'Prediction on Test Data')  #Prediction on test data\n",
    "sns.lineplot(x=futureDate.index, y=future_prediction, label='Prediction for Future', color='green')  #Prediction on future"
   ]
  },
  {
   "cell_type": "code",
   "execution_count": null,
   "id": "f2e68946",
   "metadata": {},
   "outputs": [],
   "source": []
  }
 ],
 "metadata": {
  "kernelspec": {
   "display_name": "Python 3 (ipykernel)",
   "language": "python",
   "name": "python3"
  },
  "language_info": {
   "codemirror_mode": {
    "name": "ipython",
    "version": 3
   },
   "file_extension": ".py",
   "mimetype": "text/x-python",
   "name": "python",
   "nbconvert_exporter": "python",
   "pygments_lexer": "ipython3",
   "version": "3.11.3"
  }
 },
 "nbformat": 4,
 "nbformat_minor": 5
}
